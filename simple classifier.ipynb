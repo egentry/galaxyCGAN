{
 "cells": [
  {
   "cell_type": "code",
   "execution_count": null,
   "metadata": {},
   "outputs": [],
   "source": [
    "%matplotlib inline\n",
    "from matplotlib import pyplot as plt\n",
    "import matplotlib as mpl\n",
    "\n",
    "import numpy as np\n",
    "import pandas as pd\n",
    "\n",
    "import seaborn as sns\n",
    "sns.set(font_scale=2, style=\"ticks\")\n"
   ]
  },
  {
   "cell_type": "code",
   "execution_count": null,
   "metadata": {},
   "outputs": [],
   "source": [
    "HSC_ids = np.load(\"data/HSC_ids.npy\")\n",
    "HSC_ids"
   ]
  },
  {
   "cell_type": "code",
   "execution_count": null,
   "metadata": {},
   "outputs": [],
   "source": [
    "X = np.load(\"data/images.small.npy\")\n",
    "X.shape"
   ]
  },
  {
   "cell_type": "markdown",
   "metadata": {},
   "source": [
    "# Get targets"
   ]
  },
  {
   "cell_type": "code",
   "execution_count": null,
   "metadata": {},
   "outputs": [],
   "source": [
    "df = pd.read_csv(\"data/2018_02_23-all_objects.csv\")\n",
    "df = df[df.selected]\n",
    "df.head()\n",
    "\n",
    "\n",
    "\n",
    "targets = df.drop_duplicates(\"HSC_id\") \\\n",
    "            .set_index(\"HSC_id\")\n",
    "    \n",
    "\n",
    "\n",
    "targets = (targets.log_mass > 8) & (targets.log_mass < 9) & (targets.photo_z < .15)\n",
    "print(targets.mean())\n",
    "print(targets.sum())"
   ]
  },
  {
   "cell_type": "markdown",
   "metadata": {},
   "source": [
    "# Split training and validation sets"
   ]
  },
  {
   "cell_type": "code",
   "execution_count": null,
   "metadata": {},
   "outputs": [],
   "source": [
    "batch_size = 64"
   ]
  },
  {
   "cell_type": "code",
   "execution_count": null,
   "metadata": {},
   "outputs": [],
   "source": [
    "np.random.seed(seed=0)\n",
    "\n",
    "randomized_indices = np.arange(X.shape[0])\n",
    "np.random.shuffle(randomized_indices)\n",
    "\n",
    "testing_fraction = 0.2\n",
    "# make sure testing set size is an even multiple of 64\n",
    "num_testing = (int(testing_fraction*X.shape[0]) // batch_size) * batch_size\n",
    "\n",
    "testing_set_indices = randomized_indices[:int(num_testing)]\n",
    "training_set_indices = np.array(list(set([*randomized_indices]) - set([*testing_set_indices])))\n"
   ]
  },
  {
   "cell_type": "code",
   "execution_count": null,
   "metadata": {},
   "outputs": [],
   "source": [
    "testing_set_indices.size"
   ]
  },
  {
   "cell_type": "code",
   "execution_count": null,
   "metadata": {},
   "outputs": [],
   "source": [
    "training_set_indices.size"
   ]
  },
  {
   "cell_type": "markdown",
   "metadata": {},
   "source": [
    "# Setup standard augmentation"
   ]
  },
  {
   "cell_type": "code",
   "execution_count": null,
   "metadata": {},
   "outputs": [],
   "source": [
    "from keras.preprocessing.image import ImageDataGenerator"
   ]
  },
  {
   "cell_type": "code",
   "execution_count": null,
   "metadata": {},
   "outputs": [],
   "source": [
    "print('Using real-time _simple_ data augmentation.')\n",
    "\n",
    "h_before, w_before = X[0,0].shape\n",
    "print(\"image shape before: ({},{})\".format(h_before, w_before))\n",
    "\n",
    "# this will do preprocessing and realtime data augmentation\n",
    "datagen = ImageDataGenerator(\n",
    "    featurewise_center=False,  # set input mean to 0 over the dataset\n",
    "    samplewise_center=False,  # set each sample mean to 0\n",
    "    featurewise_std_normalization=False,  # divide inputs by std of the dataset\n",
    "    samplewise_std_normalization=False,  # divide each input by its std\n",
    "    zca_whitening=False,  # apply ZCA whitening\n",
    "    horizontal_flip=True, # randomly apply a reflection (in x)\n",
    "    vertical_flip=True, # randomly apply a reflection (in y)\n",
    "    rotation_range=0, # randomly apply a rotation of angle randomly between 0 and `rotation_range`\n",
    "    zoom_range=0.0,\n",
    "    shear_range=0.0,\n",
    "    channel_shift_range=0.0,\n",
    "    rescale=0,\n",
    "    width_shift_range=0.002,  # randomly shift images horizontally (fraction of total width)\n",
    "    height_shift_range=0.002,  # randomly shift images vertically (fraction of total height)\n",
    ")"
   ]
  },
  {
   "cell_type": "code",
   "execution_count": null,
   "metadata": {},
   "outputs": [],
   "source": [
    "datagen.fit(X[training_set_indices])"
   ]
  },
  {
   "cell_type": "markdown",
   "metadata": {},
   "source": [
    "# Setup Classifier"
   ]
  },
  {
   "cell_type": "code",
   "execution_count": null,
   "metadata": {},
   "outputs": [],
   "source": [
    "from classifier import Classifier\n",
    "\n",
    "input_shape = X.shape[1:]\n",
    "\n",
    "classifier_model = Classifier(input_shape)\n",
    "classifier_model.configure_optimizer(lr=0.001)\n",
    "classifier_model.build_model()\n",
    "classifier_model.configure_early_stopping()\n"
   ]
  },
  {
   "cell_type": "code",
   "execution_count": null,
   "metadata": {},
   "outputs": [],
   "source": [
    "Y = targets[HSC_ids].values"
   ]
  },
  {
   "cell_type": "code",
   "execution_count": null,
   "metadata": {},
   "outputs": [],
   "source": [
    "data_iterator = datagen.flow(X[training_set_indices],\n",
    "                             Y[training_set_indices],\n",
    "                             batch_size=classifier_model.batch_size,\n",
    "                            )"
   ]
  },
  {
   "cell_type": "markdown",
   "metadata": {},
   "source": [
    "# Run Basic Classifier"
   ]
  },
  {
   "cell_type": "code",
   "execution_count": null,
   "metadata": {},
   "outputs": [],
   "source": [
    "history = classifier_model.fit_model(X, Y, \n",
    "                                     training_set_indices,\n",
    "                                     testing_set_indices,\n",
    "                                     data_iterator,\n",
    "                                    )"
   ]
  },
  {
   "cell_type": "markdown",
   "metadata": {},
   "source": [
    "# Check Classifier Performance"
   ]
  },
  {
   "cell_type": "code",
   "execution_count": null,
   "metadata": {},
   "outputs": [],
   "source": [
    "from sklearn.metrics import log_loss\n",
    "p = Y[training_set_indices].mean()\n",
    "prior_loss = log_loss(Y[testing_set_indices], \n",
    "                      [p]*testing_set_indices.size)"
   ]
  },
  {
   "cell_type": "code",
   "execution_count": null,
   "metadata": {},
   "outputs": [],
   "source": [
    "print(\"performance (prior): {:.3f}\".format(prior_loss))\n",
    "print(\"performance (best):  {:.3f}\".format(min(history.history[\"val_loss\"])))"
   ]
  },
  {
   "cell_type": "code",
   "execution_count": null,
   "metadata": {},
   "outputs": [],
   "source": [
    "from matplotlib.ticker import MaxNLocator\n",
    "\n",
    "with mpl.rc_context(rc={\"figure.figsize\": (10,6)}):\n",
    "\n",
    "    plt.plot(history.history[\"val_loss\"], label=\"Validation\")\n",
    "    plt.plot(history.history[\"loss\"], label=\"Training\")\n",
    "    \n",
    "    plt.axhline(prior_loss, label=\"Prior\", \n",
    "                linestyle=\"dashed\", color=\"black\")\n",
    "\n",
    "    plt.legend(loc=\"best\")\n",
    "    \n",
    "    plt.xlabel(\"Epoch\")\n",
    "    plt.ylabel(\"Loss\\n(mean binary cross-entropy)\")\n",
    "    \n",
    "    plt.ylim(.4, .7)\n",
    "    \n",
    "    # Force only integer labels, not fractional labels\n",
    "    plt.gca().xaxis.set_major_locator(MaxNLocator(integer=True))"
   ]
  },
  {
   "cell_type": "code",
   "execution_count": null,
   "metadata": {},
   "outputs": [],
   "source": [
    "class_probs = classifier_model.model \\\n",
    "                              .predict_proba(X[testing_set_indices]) \\\n",
    "                              .flatten()\n",
    "class_probs"
   ]
  },
  {
   "cell_type": "code",
   "execution_count": null,
   "metadata": {},
   "outputs": [],
   "source": [
    "with mpl.rc_context(rc={\"figure.figsize\": (10,6)}):\n",
    "    sns.distplot(class_probs[Y[testing_set_indices]==True], color=\"g\", label=\"true dwarfs\")\n",
    "    sns.distplot(class_probs[Y[testing_set_indices]==False], color=\"b\", label=\"true non-dwarfs\")\n",
    "\n",
    "    plt.xlabel(\"p(dwarf | image)\")\n",
    "    plt.ylabel(\"density (galaxies)\")\n",
    "\n",
    "    plt.xlim(0, .7)\n",
    "    plt.axvline(Y[training_set_indices].mean(), linestyle=\"dashed\", color=\"black\", label=\"prior\\n(from training set)\")\n",
    "    plt.axvline(.5, linestyle=\"dotted\", color=\"black\", label=\"50/50\")\n",
    "\n",
    "    plt.legend(\n",
    "        loc=\"upper left\",\n",
    "        bbox_to_anchor=(1, 1),\n",
    "    )\n"
   ]
  },
  {
   "cell_type": "code",
   "execution_count": null,
   "metadata": {},
   "outputs": [],
   "source": [
    "from sklearn import metrics\n",
    "from sklearn.metrics import roc_auc_score\n",
    "\n",
    "with mpl.rc_context(rc={\"figure.figsize\": (10,6)}):\n",
    "    fpr, tpr, _ = metrics.roc_curve(Y[testing_set_indices], class_probs)\n",
    "    roc_auc = roc_auc_score(Y[testing_set_indices], class_probs)\n",
    "\n",
    "    plt.plot(fpr, tpr, label=\"DNN (AUC = {:.2})\".format(roc_auc))\n",
    "    plt.plot([0,1], [0,1], linestyle=\"dashed\", color=\"black\", label=\"random guessing\")\n",
    "\n",
    "    plt.xlim(0,1)\n",
    "    plt.ylim(0,1)\n",
    "\n",
    "    plt.xlabel(\"False Positive Rate\")\n",
    "    plt.ylabel(\"True Positive Rate\")\n",
    "\n",
    "    plt.title(\"ROC Curve\")\n",
    "\n",
    "    plt.legend(loc=\"best\")\n"
   ]
  },
  {
   "cell_type": "code",
   "execution_count": null,
   "metadata": {},
   "outputs": [],
   "source": [
    "from sklearn import metrics\n",
    "from sklearn.metrics import average_precision_score\n",
    "with mpl.rc_context(rc={\"figure.figsize\": (10,6)}):\n",
    "    precision, recall, _ = metrics.precision_recall_curve(Y[testing_set_indices], class_probs)\n",
    "    pr_auc = average_precision_score(Y[testing_set_indices], class_probs)\n",
    "\n",
    "    plt.plot(recall, precision, label=\"AUC = {:.2}\".format(pr_auc))\n",
    "    plt.plot([0,1], [Y[testing_set_indices].mean()]*2, linestyle=\"dashed\", color=\"black\")\n",
    "\n",
    "    plt.xlim(0,1)\n",
    "    plt.ylim(0,1)\n",
    "\n",
    "    plt.xlabel(\"Recall\")\n",
    "    plt.ylabel(\"Precision\")\n",
    "\n",
    "    plt.title(\"PR Curve\")\n",
    "\n",
    "    plt.legend(loc=\"best\")\n"
   ]
  },
  {
   "cell_type": "code",
   "execution_count": null,
   "metadata": {},
   "outputs": [],
   "source": []
  }
 ],
 "metadata": {
  "kernelspec": {
   "display_name": "Python 3",
   "language": "python",
   "name": "python3"
  },
  "language_info": {
   "codemirror_mode": {
    "name": "ipython",
    "version": 3
   },
   "file_extension": ".py",
   "mimetype": "text/x-python",
   "name": "python",
   "nbconvert_exporter": "python",
   "pygments_lexer": "ipython3",
   "version": "3.6.4"
  }
 },
 "nbformat": 4,
 "nbformat_minor": 2
}
