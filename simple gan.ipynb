{
 "cells": [
  {
   "cell_type": "code",
   "execution_count": null,
   "metadata": {},
   "outputs": [],
   "source": [
    "%matplotlib inline\n",
    "from matplotlib import pyplot as plt\n",
    "import matplotlib as mpl\n",
    "import seaborn as sns\n",
    "\n",
    "import os\n",
    "\n",
    "import numpy as np\n",
    "import pandas as pd\n",
    "import tensorflow as tf\n",
    "\n",
    "mpl.rcParams['savefig.dpi'] = 80\n",
    "mpl.rcParams['figure.dpi'] = 80\n",
    "mpl.rcParams['figure.figsize'] = np.array((10,6))*.6\n",
    "\n",
    "# my code\n",
    "import misc\n",
    "import gan\n"
   ]
  },
  {
   "cell_type": "markdown",
   "metadata": {},
   "source": [
    "# Load galaxy image data"
   ]
  },
  {
   "cell_type": "code",
   "execution_count": null,
   "metadata": {},
   "outputs": [],
   "source": [
    "X_img = np.load(\"data/images.small.npy\")\n",
    "X_img = X_img.transpose([0,2,3,1])\n",
    "X_img.shape"
   ]
  },
  {
   "cell_type": "code",
   "execution_count": null,
   "metadata": {},
   "outputs": [],
   "source": [
    "image_size = X_img.shape[1]\n",
    "image_size"
   ]
  },
  {
   "cell_type": "markdown",
   "metadata": {},
   "source": [
    "# Load targets\n",
    "`HSC_ids` are in the same order as the `X_img` data. These ids are then used to cross-reference the table read into `df`."
   ]
  },
  {
   "cell_type": "code",
   "execution_count": null,
   "metadata": {},
   "outputs": [],
   "source": [
    "HSC_ids = np.load(\"data/HSC_ids.npy\")\n",
    "HSC_ids"
   ]
  },
  {
   "cell_type": "code",
   "execution_count": null,
   "metadata": {},
   "outputs": [],
   "source": [
    "df = pd.read_csv(\"data/2018_02_23-all_objects.csv\")\n",
    "df = df[df.selected]\n",
    "\n",
    "\n",
    "df = df.drop_duplicates(\"HSC_id\") \\\n",
    "       .set_index(\"HSC_id\") \\\n",
    "       [[\"photo_z\", \"log_mass\"]]\n",
    "\n",
    "\n",
    "df.head()\n"
   ]
  },
  {
   "cell_type": "code",
   "execution_count": null,
   "metadata": {},
   "outputs": [],
   "source": [
    "y = df.loc[HSC_ids].values\n",
    "y_for_visualization_samples = np.array([.14, 8.51])"
   ]
  },
  {
   "cell_type": "code",
   "execution_count": null,
   "metadata": {},
   "outputs": [],
   "source": [
    "standardizer = misc.Standardizer(y)\n",
    "y_standard = standardizer(y)\n",
    "y_for_visualization_samples_standard = standardizer(y_for_visualization_samples)\n",
    "\n",
    "y_standard.shape"
   ]
  },
  {
   "cell_type": "markdown",
   "metadata": {},
   "source": [
    "# Run GAN\n",
    "Modeled after: https://github.com/hwalsuklee/tensorflow-generative-model-collections/blob/f24a27feba327a1086298a810fdf83bb30d5128a/CGAN.py"
   ]
  },
  {
   "cell_type": "code",
   "execution_count": null,
   "metadata": {
    "scrolled": false
   },
   "outputs": [],
   "source": [
    "num_threads = 10\n",
    "\n",
    "sess = tf.Session(config=tf.ConfigProto(\n",
    "    intra_op_parallelism_threads=num_threads,\n",
    "    inter_op_parallelism_threads=num_threads,\n",
    "))\n",
    "\n",
    "num_epochs = 265\n",
    "batch_size = 64\n",
    "z_dim = 100\n",
    "dataset_name = \"galaxy\"\n",
    "checkpoint_dir = os.path.join(os.path.expanduser(\"~\"),\n",
    "                              \"tmp - models\",\n",
    "                              \"models/gan/checkpoints\")\n",
    "result_dir = \"models/gan/results\"\n",
    "log_dir = \"models/gan/log\"\n",
    "\n",
    "model = gan.CGAN(sess, num_epochs, batch_size, z_dim, dataset_name,\n",
    "                 image_size, X_img, \n",
    "                 y_standard, y_for_visualization_samples_standard,\n",
    "                 checkpoint_dir, result_dir, log_dir,\n",
    "                 d_learning_rate=.0001,\n",
    "                 relative_learning_rate=4.,\n",
    "                )\n",
    "\n",
    "model.build_model()\n"
   ]
  },
  {
   "cell_type": "code",
   "execution_count": null,
   "metadata": {
    "scrolled": false
   },
   "outputs": [],
   "source": [
    "model.train()"
   ]
  },
  {
   "cell_type": "code",
   "execution_count": null,
   "metadata": {},
   "outputs": [],
   "source": []
  }
 ],
 "metadata": {
  "kernelspec": {
   "display_name": "Python 3",
   "language": "python",
   "name": "python3"
  },
  "language_info": {
   "codemirror_mode": {
    "name": "ipython",
    "version": 3
   },
   "file_extension": ".py",
   "mimetype": "text/x-python",
   "name": "python",
   "nbconvert_exporter": "python",
   "pygments_lexer": "ipython3",
   "version": "3.6.4"
  }
 },
 "nbformat": 4,
 "nbformat_minor": 2
}
